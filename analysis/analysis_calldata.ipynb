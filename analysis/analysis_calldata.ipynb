{
 "cells": [
  {
   "cell_type": "code",
   "execution_count": 1,
   "metadata": {
    "collapsed": false
   },
   "outputs": [],
   "source": [
    "from web3 import Web3\n",
    "import pandas as pd, numpy as np, pprint as pp\n",
    "from helpers.tx import Tx\n",
    "from helpers.calldata import *"
   ]
  },
  {
   "cell_type": "code",
   "execution_count": 2,
   "metadata": {
    "collapsed": false
   },
   "outputs": [],
   "source": [
    "# Fetch tx data"
   ]
  },
  {
   "cell_type": "code",
   "execution_count": 3,
   "metadata": {
    "collapsed": false
   },
   "outputs": [],
   "source": [
    "honeypot_hash = '1e232d5871979eaa715de2c38381574a9c886bad'\n",
    "\n",
    "bot_tx_hash = '0x18ec2c2e5720c6d332a0f308f8803e834e06c78dcebdc255178891ead56c6d73'\n",
    "bot_tx = Tx(bot_tx_hash)\n",
    "bot_tx.fetch_data()\n",
    "\n",
    "og_tx_hash = '0xcc1172506d5b5fa09cbf66d2296deb24958181f186817eb29cbe8385fd55ed51'\n",
    "og_tx = Tx(og_tx_hash)\n",
    "og_tx.fetch_data()\n",
    "\n",
    "bot_tx_2_hash = '0x8cda6e76f9a19ce69967d9f74d52402afbafba6ca3469248fe5c9937ef065d47'\n",
    "bot_tx_2 = Tx(bot_tx_2_hash)\n",
    "bot_tx_2.fetch_data()\n",
    "\n",
    "og_tx_2_hash = '0xfce9b77a8c7b8544cb699ce646558dc506e030aaba1533c917d7841bcc3f206a'\n",
    "og_tx_2 = Tx(og_tx_2_hash)\n",
    "og_tx_2.fetch_data()"
   ]
  },
  {
   "cell_type": "markdown",
   "metadata": {
    "collapsed": false
   },
   "source": [
    "# Original txs callda"
   ]
  },
  {
   "cell_type": "code",
   "execution_count": 9,
   "metadata": {
    "collapsed": false
   },
   "outputs": [
    {
     "name": "stdout",
     "output_type": "stream",
     "text": [
      "{'method': '0xf8460831',\n",
      " 'args': ['0000000000000000000000000000000000000000000000000000000000000020',\n",
      "          '0000000000000000000000000000000000000000000000000000000000000018',\n",
      "          '4665617220697320746865206d696e64206b696c6c65722e0000000000000000']}\n"
     ]
    }
   ],
   "source": [
    "og_data = parse_og_calldata(og_tx.calldata)\n",
    "pp.pprint(og_data, sort_dicts=False)"
   ]
  },
  {
   "cell_type": "code",
   "execution_count": 10,
   "metadata": {
    "collapsed": false
   },
   "outputs": [
    {
     "name": "stdout",
     "output_type": "stream",
     "text": [
      "{'method': '0xb4355702',\n",
      " 'args': ['0000000000000000000000008d06f469dd22ced28ed39ce1964afe52ed9e51f3',\n",
      "          '0000000000000000000000000000000000000000000000000000000000000040',\n",
      "          '0000000000000000000000000000000000000000000000000000000000000018',\n",
      "          '4665617220697320746865206d696e64206b696c6c65722e0000000000000000']}\n"
     ]
    }
   ],
   "source": [
    "og_2_data = parse_og_calldata(og_tx_2.calldata)\n",
    "pp.pprint(og_2_data, sort_dicts=False)"
   ]
  },
  {
   "cell_type": "markdown",
   "metadata": {
    "collapsed": false
   },
   "source": [
    "# Bot tx calldata"
   ]
  },
  {
   "cell_type": "code",
   "execution_count": 11,
   "metadata": {
    "collapsed": false
   },
   "outputs": [
    {
     "name": "stdout",
     "output_type": "stream",
     "text": [
      "{'method': '0x04236cf5',\n",
      " 'target_contract': '1e232d5871979eaa715de2c38381574a9c886bad',\n",
      " 'og_calldata_length': '00000064',\n",
      " 'og_calldata': 'f8460831000000000000000000000000000000000000000000000000000000000000002000000000000000000000000000000000000000000000000000000000000000184665617220697320746865206d696e64206b696c6c65722e0000000000000000'}\n"
     ]
    }
   ],
   "source": [
    "bot_data = parse_bot_calldata(bot_tx.calldata)\n",
    "pp.pprint(bot_data, sort_dicts=False)"
   ]
  },
  {
   "cell_type": "code",
   "execution_count": 12,
   "metadata": {
    "collapsed": false
   },
   "outputs": [
    {
     "name": "stdout",
     "output_type": "stream",
     "text": [
      "{'method': '0x04236cf5',\n",
      " 'target_contract': '1e232d5871979eaa715de2c38381574a9c886bad',\n",
      " 'og_calldata_length': '00000084',\n",
      " 'og_calldata': 'b435570200000000000000000000000031b7e144b2cf261a015004bee9c84a98263e2f66000000000000000000000000000000000000000000000000000000000000004000000000000000000000000000000000000000000000000000000000000000184665617220697320746865206d696e64206b696c6c65722e0000000000000000'}\n"
     ]
    }
   ],
   "source": [
    "bot_2_data = parse_bot_calldata(bot_tx_2.calldata)\n",
    "pp.pprint(bot_2_data, sort_dicts=False)"
   ]
  },
  {
   "cell_type": "markdown",
   "metadata": {
    "collapsed": false
   },
   "source": [
    "# Random bot tx calldata"
   ]
  },
  {
   "cell_type": "code",
   "execution_count": 13,
   "metadata": {
    "collapsed": false
   },
   "outputs": [
    {
     "name": "stdout",
     "output_type": "stream",
     "text": [
      "{'method': '0x04236cf5',\n",
      " 'target_contract': 'c02aaa39b223fe8d0a0e5c4f27ead9083c756cc2',\n",
      " 'og_calldata_length': '00000044',\n",
      " 'og_calldata': '095ea7b3000000000000000000000000e592427a0aece92de3edee1f18e0157c05861564ffffffffffffffffffffffffffffffffffffffffffffffffffffffffffffffff'}\n"
     ]
    }
   ],
   "source": [
    "pnl = pd.read_csv('data/mev-pnl.csv')\n",
    "rand_tx = pnl.sample(1)\n",
    "calldata = rand_tx['calldata'].iloc[0]\n",
    "pp.pprint(parse_bot_calldata(calldata), sort_dicts=False)"
   ]
  }
 ],
 "metadata": {
  "kernelspec": {
   "argv": [
    "/home/lsa/anaconda3/bin/python",
    "-m",
    "ipykernel_launcher",
    "-f",
    "{connection_file}"
   ],
   "display_name": "Python 3",
   "env": null,
   "interrupt_mode": "signal",
   "language": "python",
   "metadata": null,
   "name": "python3"
  },
  "name": "analysis_calldata.ipynb"
 },
 "nbformat": 4,
 "nbformat_minor": 4
}
