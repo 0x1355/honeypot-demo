{
 "cells": [
  {
   "cell_type": "code",
   "execution_count": null,
   "metadata": {
    "collapsed": false
   },
   "outputs": [],
   "source": [
    "from web3 import Web3\n",
    "import pandas as pd, numpy as np, pprint as pp\n",
    "from helpers.tx import Tx\n",
    "from helpers.calldata import *"
   ]
  },
  {
   "cell_type": "markdown",
   "metadata": {
    "collapsed": false
   },
   "source": [
    "# Fetch tx data"
   ]
  },
  {
   "cell_type": "code",
   "execution_count": null,
   "metadata": {
    "collapsed": false
   },
   "outputs": [],
   "source": [
    "honeypot_hash = '1e232d5871979eaa715de2c38381574a9c886bad'\n",
    "\n",
    "bot_tx_hash = '0x18ec2c2e5720c6d332a0f308f8803e834e06c78dcebdc255178891ead56c6d73'\n",
    "bot_tx = Tx(bot_tx_hash)\n",
    "bot_tx.fetch_data()\n",
    "\n",
    "og_tx_hash = '0xcc1172506d5b5fa09cbf66d2296deb24958181f186817eb29cbe8385fd55ed51'\n",
    "og_tx = Tx(og_tx_hash)\n",
    "og_tx.fetch_data()\n",
    "\n",
    "bot_tx_2_hash = '0x8cda6e76f9a19ce69967d9f74d52402afbafba6ca3469248fe5c9937ef065d47'\n",
    "bot_tx_2 = Tx(bot_tx_2_hash)\n",
    "bot_tx_2.fetch_data()\n",
    "\n",
    "og_tx_2_hash = '0xfce9b77a8c7b8544cb699ce646558dc506e030aaba1533c917d7841bcc3f206a'\n",
    "og_tx_2 = Tx(og_tx_2_hash)\n",
    "og_tx_2.fetch_data()"
   ]
  },
  {
   "cell_type": "markdown",
   "metadata": {
    "collapsed": false
   },
   "source": [
    "# Original txs callda"
   ]
  },
  {
   "cell_type": "code",
   "execution_count": null,
   "metadata": {
    "collapsed": false
   },
   "outputs": [],
   "source": [
    "og_data = parse_og_calldata(og_tx.calldata)\n",
    "pp.pprint(og_data, sort_dicts=False)"
   ]
  },
  {
   "cell_type": "code",
   "execution_count": null,
   "metadata": {
    "collapsed": false
   },
   "outputs": [],
   "source": [
    "og_2_data = parse_og_calldata(og_tx_2.calldata)\n",
    "pp.pprint(og_2_data, sort_dicts=False)"
   ]
  },
  {
   "cell_type": "markdown",
   "metadata": {
    "collapsed": false
   },
   "source": [
    "# Bot tx calldata"
   ]
  },
  {
   "cell_type": "code",
   "execution_count": null,
   "metadata": {
    "collapsed": false
   },
   "outputs": [],
   "source": [
    "bot_data = parse_bot_calldata(bot_tx.calldata)\n",
    "pp.pprint(bot_data, sort_dicts=False)"
   ]
  },
  {
   "cell_type": "code",
   "execution_count": null,
   "metadata": {
    "collapsed": false
   },
   "outputs": [],
   "source": [
    "bot_2_data = parse_bot_calldata(bot_tx_2.calldata)\n",
    "pp.pprint(bot_2_data, sort_dicts=False)"
   ]
  },
  {
   "cell_type": "markdown",
   "metadata": {
    "collapsed": false
   },
   "source": [
    "# Random bot tx calldata"
   ]
  },
  {
   "cell_type": "code",
   "execution_count": null,
   "metadata": {
    "collapsed": false
   },
   "outputs": [],
   "source": [
    "pnl = pd.read_csv('data/mev-pnl.csv')\n",
    "rand_tx = pnl.sample(1)\n",
    "calldata = rand_tx['calldata'].iloc[0]\n",
    "pp.pprint(parse_bot_calldata(calldata), sort_dicts=False)"
   ]
  }
 ],
 "metadata": {
  "kernelspec": {
   "argv": [
    "/home/lsa/anaconda3/bin/python",
    "-m",
    "ipykernel_launcher",
    "-f",
    "{connection_file}"
   ],
   "display_name": "Python 3",
   "env": null,
   "interrupt_mode": "signal",
   "language": "python",
   "metadata": null,
   "name": "python3"
  },
  "name": "analysis_calldata.ipynb"
 },
 "nbformat": 4,
 "nbformat_minor": 4
}
