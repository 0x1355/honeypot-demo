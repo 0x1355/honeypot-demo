{
 "cells": [
  {
   "cell_type": "code",
   "execution_count": 1,
   "metadata": {
    "collapsed": false
   },
   "outputs": [],
   "source": [
    "from web3 import Web3\n",
    "import pandas as pd, numpy as np\n",
    "from helpers.tx import Tx\n",
    "from helpers.calldata import *"
   ]
  },
  {
   "cell_type": "code",
   "execution_count": null,
   "metadata": {
    "collapsed": false
   },
   "outputs": [],
   "source": [
    "# Fetch tx data"
   ]
  },
  {
   "cell_type": "code",
   "execution_count": 7,
   "metadata": {
    "collapsed": false
   },
   "outputs": [],
   "source": [
    "\n",
    "bot_tx_hash = '0x18ec2c2e5720c6d332a0f308f8803e834e06c78dcebdc255178891ead56c6d73'\n",
    "bot_tx = Tx(bot_tx_hash)\n",
    "bot_tx.fetch_data()\n",
    "\n",
    "og_tx_hash = '0xcc1172506d5b5fa09cbf66d2296deb24958181f186817eb29cbe8385fd55ed51'\n",
    "og_tx = Tx(og_tx_hash)\n",
    "og_tx.fetch_data()\n",
    "\n",
    "bot_tx_2_hash = '0x8cda6e76f9a19ce69967d9f74d52402afbafba6ca3469248fe5c9937ef065d47'\n",
    "bot_tx_2 = Tx(bot_tx_2_hash)\n",
    "bot_tx_2.fetch_data()\n",
    "\n",
    "og_tx_2_hash = '0xfce9b77a8c7b8544cb699ce646558dc506e030aaba1533c917d7841bcc3f206a'\n",
    "og_tx_2 = Tx(og_tx_2_hash)\n",
    "og_tx_2.fetch_data()"
   ]
  },
  {
   "cell_type": "markdown",
   "metadata": {
    "collapsed": false
   },
   "source": [
    "# Original txs callda"
   ]
  },
  {
   "cell_type": "code",
   "execution_count": 8,
   "metadata": {
    "collapsed": false
   },
   "outputs": [
    {
     "data": {
      "text/plain": [
       "['0xf8460831',\n",
       " '0000000000000000000000000000000000000000000000000000000000000020',\n",
       " '0000000000000000000000000000000000000000000000000000000000000018',\n",
       " '4665617220697320746865206d696e64206b696c6c65722e0000000000000000']"
      ]
     },
     "execution_count": 8,
     "metadata": {},
     "output_type": "execute_result"
    }
   ],
   "source": [
    "og_args = parse_og_calldata(og_tx.calldata)\n",
    "og_args"
   ]
  },
  {
   "cell_type": "code",
   "execution_count": 9,
   "metadata": {
    "collapsed": false
   },
   "outputs": [
    {
     "data": {
      "text/plain": [
       "['0xb4355702',\n",
       " '0000000000000000000000008d06f469dd22ced28ed39ce1964afe52ed9e51f3',\n",
       " '0000000000000000000000000000000000000000000000000000000000000040',\n",
       " '0000000000000000000000000000000000000000000000000000000000000018',\n",
       " '4665617220697320746865206d696e64206b696c6c65722e0000000000000000']"
      ]
     },
     "execution_count": 9,
     "metadata": {},
     "output_type": "execute_result"
    }
   ],
   "source": [
    "og_2_args = parse_og_calldata(og_tx_2.calldata)\n",
    "og_2_args"
   ]
  },
  {
   "cell_type": "code",
   "execution_count": 11,
   "metadata": {
    "collapsed": false
   },
   "outputs": [
    {
     "data": {
      "text/plain": [
       "HexBytes('0xf8460831')"
      ]
     },
     "execution_count": 11,
     "metadata": {},
     "output_type": "execute_result"
    }
   ],
   "source": [
    "# Method selector\n",
    "Web3.sha3(text='scoop(string)')[0:4]"
   ]
  },
  {
   "cell_type": "code",
   "execution_count": 12,
   "metadata": {
    "collapsed": false
   },
   "outputs": [
    {
     "data": {
      "text/plain": [
       "HexBytes('0xb4355702')"
      ]
     },
     "execution_count": 12,
     "metadata": {},
     "output_type": "execute_result"
    }
   ],
   "source": [
    "Web3.sha3(text='scoopTo(address,string)')[0:4]"
   ]
  },
  {
   "cell_type": "code",
   "execution_count": 11,
   "metadata": {
    "collapsed": false
   },
   "outputs": [
    {
     "data": {
      "text/plain": [
       "32"
      ]
     },
     "execution_count": 11,
     "metadata": {},
     "output_type": "execute_result"
    }
   ],
   "source": [
    "# 'string' is dynamically sized\n",
    "# The first input parameter is located at 32 bytes (64 characters) from the start of argument block \n",
    "Web3.toInt(hexstr=og_args[1])"
   ]
  },
  {
   "cell_type": "code",
   "execution_count": 13,
   "metadata": {
    "collapsed": false
   },
   "outputs": [
    {
     "data": {
      "text/plain": [
       "24"
      ]
     },
     "execution_count": 13,
     "metadata": {},
     "output_type": "execute_result"
    }
   ],
   "source": [
    "# The first input parameter is 24 bytes long (48 characters)\n",
    "Web3.toInt(hexstr=og_args[2])"
   ]
  },
  {
   "cell_type": "code",
   "execution_count": 14,
   "metadata": {
    "collapsed": false
   },
   "outputs": [
    {
     "data": {
      "text/plain": [
       "'4665617220697320746865206d696e64206b696c6c65722e'"
      ]
     },
     "execution_count": 14,
     "metadata": {},
     "output_type": "execute_result"
    }
   ],
   "source": [
    "og_tx.calldata[10+64+64:10+64+64+48]"
   ]
  },
  {
   "cell_type": "code",
   "execution_count": 15,
   "metadata": {
    "collapsed": false
   },
   "outputs": [
    {
     "data": {
      "text/plain": [
       "'4665617220697320746865206d696e64206b696c6c65722e'"
      ]
     },
     "execution_count": 15,
     "metadata": {},
     "output_type": "execute_result"
    }
   ],
   "source": [
    "og_tx_2.calldata[10+64+64+64:10+64+64+64+48]"
   ]
  },
  {
   "cell_type": "code",
   "execution_count": 15,
   "metadata": {
    "collapsed": false
   },
   "outputs": [
    {
     "data": {
      "text/plain": [
       "'Fear is the mind killer.'"
      ]
     },
     "execution_count": 15,
     "metadata": {},
     "output_type": "execute_result"
    }
   ],
   "source": [
    "# Content of the first argument\n",
    "# strings and bytes are in big endian format (left aligned)\n",
    "Web3.toText(og_tx.calldata[10+32*4:10+32*4+48])"
   ]
  },
  {
   "cell_type": "code",
   "execution_count": 32,
   "metadata": {
    "collapsed": false
   },
   "outputs": [
    {
     "data": {
      "text/plain": [
       "['0x04236cf5',\n",
       " '1e232d5871979eaa715de2c38381574a9c886bad00000064f846083100000000',\n",
       " '0000000000000000000000000000000000000000000000000000002000000000',\n",
       " '0000000000000000000000000000000000000000000000000000001846656172',\n",
       " '20697320746865206d696e64206b696c6c65722e0000000000000000']"
      ]
     },
     "execution_count": 32,
     "metadata": {},
     "output_type": "execute_result"
    }
   ],
   "source": [
    "parse_bot_calldata(bot_tx.calldata)"
   ]
  },
  {
   "cell_type": "markdown",
   "metadata": {
    "collapsed": false
   },
   "source": [
    "# Random bot tx calldata"
   ]
  },
  {
   "cell_type": "code",
   "execution_count": 39,
   "metadata": {
    "collapsed": false
   },
   "outputs": [],
   "source": [
    "def sample_tx_hash(txs):\n",
    "    return np.random.choice(txs['hash'])    "
   ]
  },
  {
   "cell_type": "code",
   "execution_count": 40,
   "metadata": {
    "collapsed": false
   },
   "outputs": [],
   "source": [
    "pnl = pd.read_csv('mev_pnl.csv')"
   ]
  },
  {
   "cell_type": "code",
   "execution_count": 47,
   "metadata": {
    "collapsed": false
   },
   "outputs": [],
   "source": [
    "tx_rand_hash = sample_tx_hash(pnl)\n",
    "tx_rand = Tx(tx_rand_hash)"
   ]
  },
  {
   "cell_type": "code",
   "execution_count": 48,
   "metadata": {
    "collapsed": false
   },
   "outputs": [
    {
     "data": {
      "text/plain": [
       "'0xbf4d377cc4a6d79c0bb81eb4ea25d31787872f739cf085065fdf28e231267140'"
      ]
     },
     "execution_count": 48,
     "metadata": {},
     "output_type": "execute_result"
    }
   ],
   "source": [
    "tx_rand_hash"
   ]
  },
  {
   "cell_type": "code",
   "execution_count": 49,
   "metadata": {
    "collapsed": false
   },
   "outputs": [],
   "source": [
    "tx_rand.fetch_data()"
   ]
  },
  {
   "cell_type": "code",
   "execution_count": null,
   "metadata": {
    "collapsed": false
   },
   "outputs": [],
   "source": [
    "def parse_bot_calldata(calldata):\n",
    "    \n",
    "    result = [calldata[0:10]]\n",
    "\n",
    "    arg_len = 64\n",
    "\n",
    "    arg_start_i = 10\n",
    "    arg_end_i = arg_start_i + arg_len\n",
    "\n",
    "    while arg_start_i < len(calldata):\n",
    "        next_arg = calldata[arg_start_i:arg_end_i]\n",
    "        result.append(next_arg)\n",
    "        arg_start_i += arg_len\n",
    "        arg_end_i += arg_len\n",
    "\n",
    "    return result"
   ]
  },
  {
   "cell_type": "code",
   "execution_count": 52,
   "metadata": {
    "collapsed": false
   },
   "outputs": [
    {
     "data": {
      "text/plain": [
       "['0x04236cf5',\n",
       " '31efc4aeaa7c39e54a33fdc3c46ee2bd70ae0a09000003649b151a8000000000',\n",
       " '0000000000000000000000000000000000000000000000000000002000000000',\n",
       " '000000000000000031efc4aeaa7c39e54a33fdc3c46ee2bd70ae0a0900000000',\n",
       " '0000000000000000d43ca03eb441b7d34a1f558e6133d9996206520d00000000',\n",
       " '00000000000000007e76de758cd414096a4882ed2824bc513d7ed7c900000000',\n",
       " '0000000000000000d43ca03eb441b7d34a1f558e6133d9996206520d00000000',\n",
       " '00000000000000002170ed0880ac9a755fd29b2688956bd959f933f800000000',\n",
       " '0000000000000000000000000000000000000000000000000000000000000000',\n",
       " '0000000000000000d43ca03eb441b7d34a1f558e6133d9996206520d00000000',\n",
       " '0000000000000000d43ca03eb441b7d34a1f558e6133d9996206520d00000000',\n",
       " '00000000000000000000000000000000000000000000000000000000c5d24601',\n",
       " '86f7233c927e7db2dcc703c0e500b653ca82273b7bfad8045d85a4709c7a6ab2',\n",
       " '0f7781afdfc563db2eb7f3def89bc9bd033d55143ebd6e6eba4b6fb900000000',\n",
       " '0000000000000000000000000000000000000000000000000000003800000000',\n",
       " '0000000000000000000000000000000000000000000000000000000100000000',\n",
       " '000000000000000000000000000000000000000002d44551060144bd00000000',\n",
       " '00000000000000000000000000000000000000000000000061a54c1e00000000',\n",
       " '00000000000000000000000000000000000000000000000000d1065100000000',\n",
       " '0000000000000000000000000000000000000000003f1e4f68958db800000000',\n",
       " '0000000000000000000000000000000000000000000000000000028000000000',\n",
       " '0000000000000000000000000000000000000000000000000000030000000000',\n",
       " '0000000000000000000000000000000000000000000000000000032000000000',\n",
       " '0000000000000000000000000000000000000000000000000000004135d8b499',\n",
       " '05a661c1c01799804c491be4eb833fefd8ff1bafc1050bbde6fa9c9f7807efc7',\n",
       " '634d4b5e57c4e8c59d1cd41a8bffdaf9c93fcca2e0bb2012a3cf09ed1c000000',\n",
       " '0000000000000000000000000000000000000000000000000000000000000000',\n",
       " '0000000000000000000000000000000000000000000000000000000000000000',\n",
       " '00000000000000000000000000000000000000000000000000000000']"
      ]
     },
     "execution_count": 52,
     "metadata": {},
     "output_type": "execute_result"
    }
   ],
   "source": [
    "parse_bot_calldata(tx_rand.calldata)"
   ]
  },
  {
   "cell_type": "code",
   "execution_count": null,
   "metadata": {
    "collapsed": false
   },
   "outputs": [],
   "source": []
  }
 ],
 "metadata": {
  "kernelspec": {
   "argv": [
    "/home/lsa/anaconda3/bin/python",
    "-m",
    "ipykernel_launcher",
    "-f",
    "{connection_file}"
   ],
   "display_name": "Python 3",
   "env": null,
   "interrupt_mode": "signal",
   "language": "python",
   "metadata": null,
   "name": "python3"
  },
  "name": "analysis_calldata.ipynb"
 },
 "nbformat": 4,
 "nbformat_minor": 4
}
