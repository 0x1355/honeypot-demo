{
 "cells": [
  {
   "cell_type": "code",
   "execution_count": 2,
   "metadata": {
    "collapsed": false
   },
   "outputs": [],
   "source": [
    "from helpers.tx import Tx\n",
    "from web3 import Web3\n",
    "import pandas as pd, numpy as np"
   ]
  },
  {
   "cell_type": "markdown",
   "metadata": {
    "collapsed": false
   },
   "source": [
    "# [ ] Bot and failed txs pair 1"
   ]
  },
  {
   "cell_type": "code",
   "execution_count": 3,
   "metadata": {
    "collapsed": false
   },
   "outputs": [],
   "source": [
    "bot_tx_hash = '0x18ec2c2e5720c6d332a0f308f8803e834e06c78dcebdc255178891ead56c6d73'\n",
    "bot_tx = Tx(bot_tx_hash)\n",
    "bot_tx.fetch_data()\n",
    "\n",
    "og_tx_hash = '0xcc1172506d5b5fa09cbf66d2296deb24958181f186817eb29cbe8385fd55ed51'\n",
    "og_tx = Tx(og_tx_hash)\n",
    "og_tx.fetch_data()"
   ]
  },
  {
   "cell_type": "code",
   "execution_count": 3,
   "metadata": {
    "collapsed": false
   },
   "outputs": [
    {
     "data": {
      "text/plain": [
       "'0x04236cf51e232d5871979eaa715de2c38381574a9c886bad00000064f8460831000000000000000000000000000000000000000000000000000000000000002000000000000000000000000000000000000000000000000000000000000000184665617220697320746865206d696e64206b696c6c65722e0000000000000000'"
      ]
     },
     "execution_count": 3,
     "metadata": {},
     "output_type": "execute_result"
    }
   ],
   "source": [
    "bot_tx.calldata"
   ]
  },
  {
   "cell_type": "code",
   "execution_count": 4,
   "metadata": {
    "collapsed": false
   },
   "outputs": [
    {
     "data": {
      "text/plain": [
       "'0xf8460831000000000000000000000000000000000000000000000000000000000000002000000000000000000000000000000000000000000000000000000000000000184665617220697320746865206d696e64206b696c6c65722e0000000000000000'"
      ]
     },
     "execution_count": 4,
     "metadata": {},
     "output_type": "execute_result"
    }
   ],
   "source": [
    "og_tx.calldata"
   ]
  },
  {
   "cell_type": "code",
   "execution_count": 5,
   "metadata": {
    "collapsed": false
   },
   "outputs": [
    {
     "data": {
      "text/plain": [
       "202"
      ]
     },
     "execution_count": 5,
     "metadata": {},
     "output_type": "execute_result"
    }
   ],
   "source": [
    "calldata = og_tx.calldata\n",
    "len(calldata)"
   ]
  },
  {
   "cell_type": "code",
   "execution_count": 87,
   "metadata": {
    "collapsed": false
   },
   "outputs": [
    {
     "data": {
      "text/plain": [
       "40"
      ]
     },
     "execution_count": 87,
     "metadata": {},
     "output_type": "execute_result"
    }
   ],
   "source": [
    "len('ea674fdde714fd979de3edf0f56aa9716b898ec8')"
   ]
  },
  {
   "cell_type": "markdown",
   "metadata": {
    "collapsed": false
   },
   "source": [
    "# [x] Parsing og calldata"
   ]
  },
  {
   "cell_type": "code",
   "execution_count": 82,
   "metadata": {
    "collapsed": false
   },
   "outputs": [],
   "source": [
    "def parse_calldata(calldata):\n",
    "    \n",
    "    result = [calldata[0:10]]\n",
    "\n",
    "    arg_len = 64\n",
    "\n",
    "    arg_start_i = 10\n",
    "    arg_end_i = arg_start_i + arg_len\n",
    "\n",
    "    while arg_start_i < len(calldata):\n",
    "        next_arg = calldata[arg_start_i:arg_end_i]\n",
    "        result.append(next_arg)\n",
    "        arg_start_i += arg_len\n",
    "        arg_end_i += arg_len\n",
    "\n",
    "    return result"
   ]
  },
  {
   "cell_type": "code",
   "execution_count": 83,
   "metadata": {
    "collapsed": false
   },
   "outputs": [
    {
     "data": {
      "text/plain": [
       "['0xf8460831',\n",
       " '0000000000000000000000000000000000000000000000000000000000000020',\n",
       " '0000000000000000000000000000000000000000000000000000000000000018',\n",
       " '4665617220697320746865206d696e64206b696c6c65722e0000000000000000']"
      ]
     },
     "execution_count": 83,
     "metadata": {},
     "output_type": "execute_result"
    }
   ],
   "source": [
    "og_args = parse_calldata(og_tx.calldata)\n",
    "og_args"
   ]
  },
  {
   "cell_type": "code",
   "execution_count": 77,
   "metadata": {
    "collapsed": false
   },
   "outputs": [
    {
     "data": {
      "text/plain": [
       "HexBytes('0xf8460831')"
      ]
     },
     "execution_count": 77,
     "metadata": {},
     "output_type": "execute_result"
    }
   ],
   "source": [
    "# Method selector\n",
    "Web3.sha3(text='scoop(string)')[0:4]"
   ]
  },
  {
   "cell_type": "code",
   "execution_count": 80,
   "metadata": {
    "collapsed": false
   },
   "outputs": [
    {
     "data": {
      "text/plain": [
       "32"
      ]
     },
     "execution_count": 80,
     "metadata": {},
     "output_type": "execute_result"
    }
   ],
   "source": [
    "# 'string' is dynamically sized\n",
    "# The first input parameter is located at 32 bytes (64 characters) from the start of argument block \n",
    "Web3.toInt(hexstr=og_args[1])"
   ]
  },
  {
   "cell_type": "code",
   "execution_count": 81,
   "metadata": {
    "collapsed": false
   },
   "outputs": [
    {
     "data": {
      "text/plain": [
       "96"
      ]
     },
     "execution_count": 81,
     "metadata": {},
     "output_type": "execute_result"
    }
   ],
   "source": [
    "Web3.toInt(0x60)"
   ]
  },
  {
   "cell_type": "code",
   "execution_count": 58,
   "metadata": {
    "collapsed": false
   },
   "outputs": [
    {
     "data": {
      "text/plain": [
       "24"
      ]
     },
     "execution_count": 58,
     "metadata": {},
     "output_type": "execute_result"
    }
   ],
   "source": [
    "# The first input parameter is 24 bytes long (48 characters)\n",
    "Web3.toInt(hexstr=og_args[2])"
   ]
  },
  {
   "cell_type": "code",
   "execution_count": 62,
   "metadata": {
    "collapsed": false
   },
   "outputs": [
    {
     "data": {
      "text/plain": [
       "'4665617220697320746865206d696e64206b696c6c65722e'"
      ]
     },
     "execution_count": 62,
     "metadata": {},
     "output_type": "execute_result"
    }
   ],
   "source": [
    "og_tx.calldata[10+64+64:10+64+64+48]"
   ]
  },
  {
   "cell_type": "code",
   "execution_count": 60,
   "metadata": {
    "collapsed": false
   },
   "outputs": [
    {
     "data": {
      "text/plain": [
       "'\\x00\\x00\\x00\\x00\\x00\\x00\\x00\\x00\\x00\\x00\\x00\\x00\\x00\\x00\\x00\\x00\\x00\\x00\\x00'"
      ]
     },
     "execution_count": 60,
     "metadata": {},
     "output_type": "execute_result"
    }
   ],
   "source": [
    "# Content of the first argument\n",
    "# strings and bytes are in big endian format (left aligned)\n",
    "Web3.toText(og_tx.calldata[10+74:10+64+48])"
   ]
  },
  {
   "cell_type": "code",
   "execution_count": 59,
   "metadata": {
    "collapsed": false
   },
   "outputs": [
    {
     "data": {
      "text/plain": [
       "48"
      ]
     },
     "execution_count": 59,
     "metadata": {},
     "output_type": "execute_result"
    }
   ],
   "source": [
    "len('4665617220697320746865206d696e64206b696c6c65722e')"
   ]
  },
  {
   "cell_type": "code",
   "execution_count": 32,
   "metadata": {
    "collapsed": false
   },
   "outputs": [
    {
     "data": {
      "text/plain": [
       "['0x04236cf5',\n",
       " '1e232d5871979eaa715de2c38381574a9c886bad00000064f846083100000000',\n",
       " '0000000000000000000000000000000000000000000000000000002000000000',\n",
       " '0000000000000000000000000000000000000000000000000000001846656172',\n",
       " '20697320746865206d696e64206b696c6c65722e0000000000000000']"
      ]
     },
     "execution_count": 32,
     "metadata": {},
     "output_type": "execute_result"
    }
   ],
   "source": [
    "parse_bot_calldata(bot_tx.calldata)"
   ]
  },
  {
   "cell_type": "markdown",
   "metadata": {
    "collapsed": false
   },
   "source": [
    "# Random bot tx calldata"
   ]
  },
  {
   "cell_type": "code",
   "execution_count": 39,
   "metadata": {
    "collapsed": false
   },
   "outputs": [],
   "source": [
    "def sample_tx_hash(txs):\n",
    "    return np.random.choice(txs['hash'])    "
   ]
  },
  {
   "cell_type": "code",
   "execution_count": 40,
   "metadata": {
    "collapsed": false
   },
   "outputs": [],
   "source": [
    "pnl = pd.read_csv('mev_pnl.csv')"
   ]
  },
  {
   "cell_type": "code",
   "execution_count": 47,
   "metadata": {
    "collapsed": false
   },
   "outputs": [],
   "source": [
    "tx_rand_hash = sample_tx_hash(pnl)\n",
    "tx_rand = Tx(tx_rand_hash)"
   ]
  },
  {
   "cell_type": "code",
   "execution_count": 48,
   "metadata": {
    "collapsed": false
   },
   "outputs": [
    {
     "data": {
      "text/plain": [
       "'0xbf4d377cc4a6d79c0bb81eb4ea25d31787872f739cf085065fdf28e231267140'"
      ]
     },
     "execution_count": 48,
     "metadata": {},
     "output_type": "execute_result"
    }
   ],
   "source": [
    "tx_rand_hash"
   ]
  },
  {
   "cell_type": "code",
   "execution_count": 49,
   "metadata": {
    "collapsed": false
   },
   "outputs": [],
   "source": [
    "tx_rand.fetch_data()"
   ]
  },
  {
   "cell_type": "code",
   "execution_count": null,
   "metadata": {
    "collapsed": false
   },
   "outputs": [],
   "source": [
    "def parse_bot_calldata(calldata):\n",
    "    \n",
    "    result = [calldata[0:10]]\n",
    "\n",
    "    arg_len = 64\n",
    "\n",
    "    arg_start_i = 10\n",
    "    arg_end_i = arg_start_i + arg_len\n",
    "\n",
    "    while arg_start_i < len(calldata):\n",
    "        next_arg = calldata[arg_start_i:arg_end_i]\n",
    "        result.append(next_arg)\n",
    "        arg_start_i += arg_len\n",
    "        arg_end_i += arg_len\n",
    "\n",
    "    return result"
   ]
  },
  {
   "cell_type": "code",
   "execution_count": 52,
   "metadata": {
    "collapsed": false
   },
   "outputs": [
    {
     "data": {
      "text/plain": [
       "['0x04236cf5',\n",
       " '31efc4aeaa7c39e54a33fdc3c46ee2bd70ae0a09000003649b151a8000000000',\n",
       " '0000000000000000000000000000000000000000000000000000002000000000',\n",
       " '000000000000000031efc4aeaa7c39e54a33fdc3c46ee2bd70ae0a0900000000',\n",
       " '0000000000000000d43ca03eb441b7d34a1f558e6133d9996206520d00000000',\n",
       " '00000000000000007e76de758cd414096a4882ed2824bc513d7ed7c900000000',\n",
       " '0000000000000000d43ca03eb441b7d34a1f558e6133d9996206520d00000000',\n",
       " '00000000000000002170ed0880ac9a755fd29b2688956bd959f933f800000000',\n",
       " '0000000000000000000000000000000000000000000000000000000000000000',\n",
       " '0000000000000000d43ca03eb441b7d34a1f558e6133d9996206520d00000000',\n",
       " '0000000000000000d43ca03eb441b7d34a1f558e6133d9996206520d00000000',\n",
       " '00000000000000000000000000000000000000000000000000000000c5d24601',\n",
       " '86f7233c927e7db2dcc703c0e500b653ca82273b7bfad8045d85a4709c7a6ab2',\n",
       " '0f7781afdfc563db2eb7f3def89bc9bd033d55143ebd6e6eba4b6fb900000000',\n",
       " '0000000000000000000000000000000000000000000000000000003800000000',\n",
       " '0000000000000000000000000000000000000000000000000000000100000000',\n",
       " '000000000000000000000000000000000000000002d44551060144bd00000000',\n",
       " '00000000000000000000000000000000000000000000000061a54c1e00000000',\n",
       " '00000000000000000000000000000000000000000000000000d1065100000000',\n",
       " '0000000000000000000000000000000000000000003f1e4f68958db800000000',\n",
       " '0000000000000000000000000000000000000000000000000000028000000000',\n",
       " '0000000000000000000000000000000000000000000000000000030000000000',\n",
       " '0000000000000000000000000000000000000000000000000000032000000000',\n",
       " '0000000000000000000000000000000000000000000000000000004135d8b499',\n",
       " '05a661c1c01799804c491be4eb833fefd8ff1bafc1050bbde6fa9c9f7807efc7',\n",
       " '634d4b5e57c4e8c59d1cd41a8bffdaf9c93fcca2e0bb2012a3cf09ed1c000000',\n",
       " '0000000000000000000000000000000000000000000000000000000000000000',\n",
       " '0000000000000000000000000000000000000000000000000000000000000000',\n",
       " '00000000000000000000000000000000000000000000000000000000']"
      ]
     },
     "execution_count": 52,
     "metadata": {},
     "output_type": "execute_result"
    }
   ],
   "source": [
    "parse_bot_calldata(tx_rand.calldata)"
   ]
  },
  {
   "cell_type": "code",
   "execution_count": null,
   "metadata": {
    "collapsed": false
   },
   "outputs": [],
   "source": []
  }
 ],
 "metadata": {
  "kernelspec": {
   "argv": [
    "/home/lsa/anaconda3/bin/python",
    "-m",
    "ipykernel_launcher",
    "-f",
    "{connection_file}"
   ],
   "display_name": "Python 3",
   "env": null,
   "interrupt_mode": "signal",
   "language": "python",
   "metadata": null,
   "name": "python3"
  },
  "name": "analysis_calldata.ipynb"
 },
 "nbformat": 4,
 "nbformat_minor": 4
}
