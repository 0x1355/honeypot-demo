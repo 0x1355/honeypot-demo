{
 "cells": [
  {
   "cell_type": "code",
   "execution_count": 1,
   "metadata": {
    "collapsed": false
   },
   "outputs": [],
   "source": [
    "from web3 import Web3\n",
    "import pandas as pd, numpy as np, pprint as pp\n",
    "from helpers.tx import Tx\n",
    "from helpers.calldata import *"
   ]
  },
  {
   "cell_type": "markdown",
   "metadata": {
    "collapsed": false
   },
   "source": [
    "# Fetch tx data "
   ]
  },
  {
   "cell_type": "code",
   "execution_count": 2,
   "metadata": {
    "collapsed": false
   },
   "outputs": [],
   "source": [
    "honeypot_hash = '1e232d5871979eaa715de2c38381574a9c886bad'\n",
    "\n",
    "bot_tx_hash = '0x18ec2c2e5720c6d332a0f308f8803e834e06c78dcebdc255178891ead56c6d73'\n",
    "bot_tx = Tx(bot_tx_hash)\n",
    "bot_tx.fetch_data()\n",
    "\n",
    "og_tx_hash = '0xcc1172506d5b5fa09cbf66d2296deb24958181f186817eb29cbe8385fd55ed51'\n",
    "og_tx = Tx(og_tx_hash)\n",
    "og_tx.fetch_data()\n",
    "\n",
    "bot_tx_2_hash = '0x8cda6e76f9a19ce69967d9f74d52402afbafba6ca3469248fe5c9937ef065d47'\n",
    "bot_tx_2 = Tx(bot_tx_2_hash)\n",
    "bot_tx_2.fetch_data()\n",
    "\n",
    "og_tx_2_hash = '0xfce9b77a8c7b8544cb699ce646558dc506e030aaba1533c917d7841bcc3f206a'\n",
    "og_tx_2 = Tx(og_tx_2_hash)\n",
    "og_tx_2.fetch_data()"
   ]
  },
  {
   "cell_type": "markdown",
   "metadata": {
    "collapsed": false
   },
   "source": [
    "# Original vs bot txs calldata"
   ]
  },
  {
   "cell_type": "code",
   "execution_count": 3,
   "metadata": {
    "collapsed": false
   },
   "outputs": [
    {
     "name": "stdout",
     "output_type": "stream",
     "text": [
      "{'method': '0xf8460831',\n",
      " 'args': ['0000000000000000000000000000000000000000000000000000000000000020',\n",
      "          '0000000000000000000000000000000000000000000000000000000000000018',\n",
      "          '4665617220697320746865206d696e64206b696c6c65722e0000000000000000']}\n"
     ]
    }
   ],
   "source": [
    "og_data = parse_og_calldata(og_tx.calldata)\n",
    "pp.pprint(og_data, sort_dicts=False)"
   ]
  },
  {
   "cell_type": "code",
   "execution_count": 4,
   "metadata": {
    "collapsed": false
   },
   "outputs": [
    {
     "name": "stdout",
     "output_type": "stream",
     "text": [
      "{'method': '0x04236cf5',\n",
      " 'target_contract': '1e232d5871979eaa715de2c38381574a9c886bad',\n",
      " 'og_calldata_length': '00000064',\n",
      " 'og_calldata': 'f8460831000000000000000000000000000000000000000000000000000000000000002000000000000000000000000000000000000000000000000000000000000000184665617220697320746865206d696e64206b696c6c65722e0000000000000000'}\n"
     ]
    }
   ],
   "source": [
    "bot_data = parse_bot_calldata(bot_tx.calldata)\n",
    "pp.pprint(bot_data, sort_dicts=False)"
   ]
  },
  {
   "cell_type": "markdown",
   "metadata": {
    "collapsed": false
   },
   "source": [
    "# Oririnal vs bot txs 2 calldata: changed"
   ]
  },
  {
   "cell_type": "code",
   "execution_count": null,
   "metadata": {
    "collapsed": false
   },
   "outputs": [
    {
     "name": "stdout",
     "output_type": "stream",
     "text": [
      "{'method': '0xb4355702',\n",
      " 'args': ['0000000000000000000000008d06f469dd22ced28ed39ce1964afe52ed9e51f3',\n",
      "          '0000000000000000000000000000000000000000000000000000000000000040',\n",
      "          '0000000000000000000000000000000000000000000000000000000000000018',\n",
      "          '4665617220697320746865206d696e64206b696c6c65722e0000000000000000']}\n"
     ]
    }
   ],
   "source": [
    "og_2_data = parse_og_calldata(og_tx_2.calldata)\n",
    "pp.pprint(og_2_data, sort_dicts=False)"
   ]
  },
  {
   "cell_type": "code",
   "execution_count": 5,
   "metadata": {
    "collapsed": false
   },
   "outputs": [
    {
     "name": "stdout",
     "output_type": "stream",
     "text": [
      "{'method': '0x04236cf5',\n",
      " 'target_contract': '1e232d5871979eaa715de2c38381574a9c886bad',\n",
      " 'og_calldata_length': '00000084',\n",
      " 'og_calldata': 'b435570200000000000000000000000031b7e144b2cf261a015004bee9c84a98263e2f66000000000000000000000000000000000000000000000000000000000000004000000000000000000000000000000000000000000000000000000000000000184665617220697320746865206d696e64206b696c6c65722e0000000000000000'}\n"
     ]
    }
   ],
   "source": [
    "bot_2_data = parse_bot_calldata(bot_tx_2.calldata)\n",
    "pp.pprint(bot_2_data, sort_dicts=False)"
   ]
  },
  {
   "cell_type": "markdown",
   "metadata": {
    "collapsed": false
   },
   "source": [
    "# Random bot tx calldata "
   ]
  },
  {
   "cell_type": "code",
   "execution_count": 75,
   "metadata": {
    "collapsed": false
   },
   "outputs": [
    {
     "name": "stdout",
     "output_type": "stream",
     "text": [
      "{'method': '0x04236cf5',\n",
      " 'target_contract': '31efc4aeaa7c39e54a33fdc3c46ee2bd70ae0a09',\n",
      " 'og_calldata_length': '00000364',\n",
      " 'og_calldata': '9b151a80000000000000000000000000000000000000000000000000000000000000002000000000000000000000000031efc4aeaa7c39e54a33fdc3c46ee2bd70ae0a09000000000000000000000000bfe2a517e840c792cce7fc23126eb5966cb150590000000000000000000000007e76de758cd414096a4882ed2824bc513d7ed7c9000000000000000000000000bfe2a517e840c792cce7fc23126eb5966cb150590000000000000000000000002170ed0880ac9a755fd29b2688956bd959f933f80000000000000000000000000000000000000000000000000000000000000000000000000000000000000000bfe2a517e840c792cce7fc23126eb5966cb15059000000000000000000000000bfe2a517e840c792cce7fc23126eb5966cb150590000000000000000000000000000000000000000000000000000000000000000c5d2460186f7233c927e7db2dcc703c0e500b653ca82273b7bfad8045d85a470d3fec18c1b5a7d62a067dcb0e20472190000b83eaa10b6f5cdcbf899fe23beae000000000000000000000000000000000000000000000000000000000000003800000000000000000000000000000000000000000000000000000000000000010000000000000000000000000000000000000000000000000186296977a87d290000000000000000000000000000000000000000000000000000000061ae279c0000000000000000000000000000000000000000000000000000000000d1a9f000000000000000000000000000000000000000000000000000405815e38098a00000000000000000000000000000000000000000000000000000000000000280000000000000000000000000000000000000000000000000000000000000030000000000000000000000000000000000000000000000000000000000000003200000000000000000000000000000000000000000000000000000000000000041e39342c6cc9389f69bfac227d01cbb02f416f41e54d5601b74f392b06d182b426ecd28bc0dca9c180c1a7327e3f430995b5d397adb4b2780ad33ce7197e7d6651c0000000000000000000000000000000000000000000000000000000000000000000000000000000000000000000000000000000000000000000000000000000000000000000000000000000000000000000000000000000000000000000000'}\n"
     ]
    }
   ],
   "source": [
    "pnl = pd.read_csv('data/mev-pnl.csv')\n",
    "rand_tx = pnl.sample(1)\n",
    "calldata = rand_tx['calldata'].iloc[0]\n",
    "pp.pprint(parse_bot_calldata(calldata), sort_dicts=False)"
   ]
  }
 ],
 "metadata": {
  "kernelspec": {
   "argv": [
    "/home/lsa/anaconda3/bin/python",
    "-m",
    "ipykernel_launcher",
    "-f",
    "{connection_file}"
   ],
   "display_name": "Python 3",
   "env": null,
   "interrupt_mode": "signal",
   "language": "python",
   "metadata": null,
   "name": "python3"
  },
  "name": "analysis_calldata.ipynb"
 },
 "nbformat": 4,
 "nbformat_minor": 4
}
